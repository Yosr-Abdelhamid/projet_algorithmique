{
 "cells": [
  {
   "cell_type": "markdown",
   "metadata": {},
   "source": [
    "# <font color='red'>Résolution de problème de N reines</font> <br> <br>   "
   ]
  },
  {
   "cell_type": "code",
   "execution_count": 6,
   "metadata": {},
   "outputs": [
    {
     "name": "stdout",
     "output_type": "stream",
     "text": [
      "Veuillez entrer le nombre des reines !\n",
      "4\n",
      "la solution est :\n",
      "0 0 y 0 \n",
      "y 0 0 0 \n",
      "0 0 0 y \n",
      "0 y 0 0 \n"
     ]
    }
   ],
   "source": [
    "print ('Veuillez entrer le nombre des reines !')\n",
    "N  = int(input())\n",
    "lc = [0] * 100\n",
    "rc = [0] * 100\n",
    "cl = [0] * 100\n",
    "\n",
    "def AfficherSolution(board):\n",
    "    for i in range(N): \n",
    "        for j in range(N): \n",
    "            print(board[i][j], end = \" \") \n",
    "        print() \n",
    "\n",
    "def Recursivité(board, col):  \n",
    "    \n",
    "    if (col >= N): \n",
    "        return True\n",
    "    for i in range(N): \n",
    "        if ((lc[i - col + N - 1] != 1 and \n",
    "             rc[i + col] != 1) and cl[i] != 1): \n",
    "            board[i][col] = 'y'\n",
    "            lc[i - col + N - 1] = rc[i + col] = cl[i] = 1\n",
    "\n",
    "            if (Recursivité(board, col + 1)): \n",
    "                return True\n",
    "            \n",
    "            board[i][col] = 0  \n",
    "            lc[i - col + N - 1] = rc[i + col] = cl[i] = 0\n",
    "\n",
    "    return False\n",
    "\n",
    "def placer_toutes_reines(): \n",
    "    board = [[0]*N for _ in range(N)] \n",
    "    if (Recursivité(board, 0) == False): \n",
    "        print('Solution n`exist pas') \n",
    "        #return False\n",
    "    print('la solution est :')\n",
    "    AfficherSolution(board) \n",
    "    #return True\n",
    "\n",
    "\n",
    "placer_toutes_reines()  \n"
   ]
  },
  {
   "cell_type": "code",
   "execution_count": null,
   "metadata": {},
   "outputs": [],
   "source": []
  }
 ],
 "metadata": {
  "kernelspec": {
   "display_name": "Python 3",
   "language": "python",
   "name": "python3"
  },
  "language_info": {
   "codemirror_mode": {
    "name": "ipython",
    "version": 3
   },
   "file_extension": ".py",
   "mimetype": "text/x-python",
   "name": "python",
   "nbconvert_exporter": "python",
   "pygments_lexer": "ipython3",
   "version": "3.8.3"
  }
 },
 "nbformat": 4,
 "nbformat_minor": 4
}
